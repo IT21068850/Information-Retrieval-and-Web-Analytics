{
 "cells": [
  {
   "cell_type": "markdown",
   "id": "d66c17cb",
   "metadata": {},
   "source": [
    "Question 01"
   ]
  },
  {
   "cell_type": "code",
   "execution_count": 1,
   "id": "982fd139",
   "metadata": {},
   "outputs": [],
   "source": [
    "teams = [\"India\", \"England\", \"NZ\", \"Aus\"]\n",
    "captains = [\"Kohli\",\"Root\",\"Williaamson\", \"Smith\"]"
   ]
  },
  {
   "cell_type": "code",
   "execution_count": 2,
   "id": "a34eea4c",
   "metadata": {},
   "outputs": [],
   "source": [
    "Answer01 = list(zip(teams,captains)) # use zip to  Concatenate lists index-wise"
   ]
  },
  {
   "cell_type": "code",
   "execution_count": 3,
   "id": "4648f156",
   "metadata": {},
   "outputs": [
    {
     "name": "stdout",
     "output_type": "stream",
     "text": [
      "[('India', 'Kohli'), ('England', 'Root'), ('NZ', 'Williaamson'), ('Aus', 'Smith')]\n"
     ]
    }
   ],
   "source": [
    "print(Answer01)"
   ]
  },
  {
   "cell_type": "code",
   "execution_count": 4,
   "id": "b741e3e6",
   "metadata": {},
   "outputs": [],
   "source": [
    "Answer02 = dict(Answer01)"
   ]
  },
  {
   "cell_type": "code",
   "execution_count": 5,
   "id": "84f72b9a",
   "metadata": {},
   "outputs": [
    {
     "name": "stdout",
     "output_type": "stream",
     "text": [
      "{'India': 'Kohli', 'England': 'Root', 'NZ': 'Williaamson', 'Aus': 'Smith'}\n"
     ]
    }
   ],
   "source": [
    "print(Answer02)"
   ]
  },
  {
   "cell_type": "markdown",
   "id": "fb7ff7db",
   "metadata": {},
   "source": [
    "Question 02"
   ]
  },
  {
   "cell_type": "code",
   "execution_count": 6,
   "id": "854a7df6",
   "metadata": {},
   "outputs": [],
   "source": [
    "books= [\"textbooks\", \"exercise books\", \"story book\", \"drawing books\"]\n",
    "prices = [100,60,90,70]\n",
    "quantities = [3,2,1,4]"
   ]
  },
  {
   "cell_type": "code",
   "execution_count": 7,
   "id": "a3913bcf",
   "metadata": {},
   "outputs": [],
   "source": [
    "BookDet = list(zip(books,prices,quantities))"
   ]
  },
  {
   "cell_type": "code",
   "execution_count": 8,
   "id": "9e2aa6d7",
   "metadata": {},
   "outputs": [
    {
     "name": "stdout",
     "output_type": "stream",
     "text": [
      "[('textbooks', 100, 3), ('exercise books', 60, 2), ('story book', 90, 1), ('drawing books', 70, 4)]\n"
     ]
    }
   ],
   "source": [
    "print(BookDet)"
   ]
  },
  {
   "cell_type": "code",
   "execution_count": 9,
   "id": "ac6c82e2",
   "metadata": {},
   "outputs": [
    {
     "name": "stdout",
     "output_type": "stream",
     "text": [
      "You bought 3   textbooks  for $ 300\n",
      "You bought 2   exercise books  for $ 120\n",
      "You bought 1   story book  for $ 90\n",
      "You bought 4   drawing books  for $ 280\n"
     ]
    }
   ],
   "source": [
    "for x,y,z in BookDet:\n",
    "    print(\"You bought\",z,\" \",x, \" for $\",z*y)"
   ]
  },
  {
   "cell_type": "markdown",
   "id": "ee62025a",
   "metadata": {},
   "source": [
    "Question 03"
   ]
  },
  {
   "cell_type": "code",
   "execution_count": 10,
   "id": "66d5cf4c",
   "metadata": {},
   "outputs": [],
   "source": [
    "List01 = [2,4,6,8,10]"
   ]
  },
  {
   "cell_type": "code",
   "execution_count": 11,
   "id": "1e79b12f",
   "metadata": {},
   "outputs": [],
   "source": [
    "List02=[x+10 for x in List01]"
   ]
  },
  {
   "cell_type": "code",
   "execution_count": 12,
   "id": "21008687",
   "metadata": {},
   "outputs": [
    {
     "data": {
      "text/plain": [
       "[12, 14, 16, 18, 20]"
      ]
     },
     "execution_count": 12,
     "metadata": {},
     "output_type": "execute_result"
    }
   ],
   "source": [
    "List02"
   ]
  },
  {
   "cell_type": "markdown",
   "id": "3e430be6",
   "metadata": {},
   "source": [
    "Question 04"
   ]
  },
  {
   "cell_type": "code",
   "execution_count": 13,
   "id": "d70f20db",
   "metadata": {},
   "outputs": [],
   "source": [
    "list1 = [10, 20, 30, 40]\n",
    "list2 = [\"Apples\", \"Mangoes\", \"Oranges\", \"Grapes\"]"
   ]
  },
  {
   "cell_type": "code",
   "execution_count": 14,
   "id": "baf70fec",
   "metadata": {},
   "outputs": [],
   "source": [
    "list2.reverse() # reverses list2\n",
    "list3 = list(zip(list1,list2))"
   ]
  },
  {
   "cell_type": "code",
   "execution_count": 15,
   "id": "5a01d598",
   "metadata": {},
   "outputs": [
    {
     "data": {
      "text/plain": [
       "[(10, 'Grapes'), (20, 'Oranges'), (30, 'Mangoes'), (40, 'Apples')]"
      ]
     },
     "execution_count": 15,
     "metadata": {},
     "output_type": "execute_result"
    }
   ],
   "source": [
    "list3"
   ]
  },
  {
   "cell_type": "markdown",
   "id": "a492014c",
   "metadata": {},
   "source": [
    "Question 05"
   ]
  },
  {
   "cell_type": "code",
   "execution_count": 16,
   "id": "7ed35d07",
   "metadata": {},
   "outputs": [],
   "source": [
    "list1 = [\"a\", \"b\", [\"c\", [\"d\", \"e\", [\"f\", \"g\"], \"k\"], \"l\"], \"m\", \"n\"]\n",
    "sub_list = [\"h\", \"i\", \"j\"]"
   ]
  },
  {
   "cell_type": "code",
   "execution_count": 17,
   "id": "6cc74fec",
   "metadata": {},
   "outputs": [],
   "source": [
    "list1[2][1][2].append(sub_list[0])\n",
    "list1[2][1][2].append(sub_list[1])\n",
    "list1[2][1][2].append(sub_list[2])"
   ]
  },
  {
   "cell_type": "code",
   "execution_count": 18,
   "id": "082babb5",
   "metadata": {},
   "outputs": [
    {
     "data": {
      "text/plain": [
       "['a', 'b', ['c', ['d', 'e', ['f', 'g', 'h', 'i', 'j'], 'k'], 'l'], 'm', 'n']"
      ]
     },
     "execution_count": 18,
     "metadata": {},
     "output_type": "execute_result"
    }
   ],
   "source": [
    "list1"
   ]
  },
  {
   "cell_type": "code",
   "execution_count": 19,
   "id": "8c86b4f9",
   "metadata": {},
   "outputs": [],
   "source": [
    "list1 = [\"a\", \"b\", [\"c\", [\"d\", \"e\", [\"f\", \"g\"], \"k\"], \"l\"], \"m\", \"n\"]\n",
    "sub_list = [\"h\", \"i\", \"j\"]"
   ]
  },
  {
   "cell_type": "code",
   "execution_count": 20,
   "id": "2ac4056a",
   "metadata": {},
   "outputs": [],
   "source": [
    "list1[2][1][2].append(sub_list)"
   ]
  },
  {
   "cell_type": "code",
   "execution_count": 21,
   "id": "93d65d36",
   "metadata": {},
   "outputs": [
    {
     "data": {
      "text/plain": [
       "['a', 'b', ['c', ['d', 'e', ['f', 'g', ['h', 'i', 'j']], 'k'], 'l'], 'm', 'n']"
      ]
     },
     "execution_count": 21,
     "metadata": {},
     "output_type": "execute_result"
    }
   ],
   "source": [
    "list1"
   ]
  },
  {
   "cell_type": "markdown",
   "id": "3c1a48b2",
   "metadata": {},
   "source": [
    "Question 06"
   ]
  },
  {
   "cell_type": "code",
   "execution_count": 22,
   "id": "8d154c2d",
   "metadata": {},
   "outputs": [],
   "source": [
    "List1= [10,15,20,15,32,54,15]\n",
    "List1.index(15)\n",
    "for x in List1:\n",
    "    if x==15:\n",
    "        del List1[List1.index(15)]"
   ]
  },
  {
   "cell_type": "code",
   "execution_count": 23,
   "id": "81451434",
   "metadata": {},
   "outputs": [
    {
     "data": {
      "text/plain": [
       "[10, 20, 32, 54]"
      ]
     },
     "execution_count": 23,
     "metadata": {},
     "output_type": "execute_result"
    }
   ],
   "source": [
    "List1"
   ]
  },
  {
   "cell_type": "markdown",
   "id": "698f5280",
   "metadata": {},
   "source": [
    "Question 07"
   ]
  },
  {
   "cell_type": "code",
   "execution_count": 24,
   "id": "1cc00fe8",
   "metadata": {},
   "outputs": [],
   "source": [
    "dict_1 = {'John': 15, 'Rick': 10, 'Misa': 12}\n",
    "dict_2 = {'Bonnie': 18,'Rick': 20,'Matt': 16}"
   ]
  },
  {
   "cell_type": "code",
   "execution_count": 25,
   "id": "b45a576f",
   "metadata": {},
   "outputs": [],
   "source": [
    "dict_1.update(dict_2)"
   ]
  },
  {
   "cell_type": "code",
   "execution_count": 26,
   "id": "e504e036",
   "metadata": {},
   "outputs": [
    {
     "data": {
      "text/plain": [
       "{'John': 15, 'Rick': 20, 'Misa': 12, 'Bonnie': 18, 'Matt': 16}"
      ]
     },
     "execution_count": 26,
     "metadata": {},
     "output_type": "execute_result"
    }
   ],
   "source": [
    "dict_1"
   ]
  },
  {
   "cell_type": "markdown",
   "id": "328cc667",
   "metadata": {},
   "source": [
    "Question 08"
   ]
  },
  {
   "cell_type": "code",
   "execution_count": 27,
   "id": "6d760714",
   "metadata": {},
   "outputs": [
    {
     "name": "stdout",
     "output_type": "stream",
     "text": [
      "{1: 1, 2: 2, 3: 3, 4: 0}\n"
     ]
    }
   ],
   "source": [
    "d = {0: 0, 1: 1, 2: 2, 3: 3}\n",
    "d[4] = d.pop(0)\n",
    "print(d)"
   ]
  },
  {
   "cell_type": "markdown",
   "id": "d5e3d380",
   "metadata": {},
   "source": [
    "Question 09"
   ]
  },
  {
   "cell_type": "code",
   "execution_count": 28,
   "id": "3960d363",
   "metadata": {},
   "outputs": [],
   "source": [
    "country=[\"USA\",\"France\",\"India\"]\n",
    "capital= [\"Washington D.C.\",\"Paris\",\"New Delhi\"]\n"
   ]
  },
  {
   "cell_type": "code",
   "execution_count": 29,
   "id": "b94a139a",
   "metadata": {},
   "outputs": [
    {
     "name": "stdout",
     "output_type": "stream",
     "text": [
      "[('USA', 'Washington D.C.'), ('France', 'Paris'), ('India', 'New Delhi')]\n"
     ]
    }
   ],
   "source": [
    "Answer = list(zip(country,capital))\n",
    "print(Answer)"
   ]
  },
  {
   "cell_type": "code",
   "execution_count": 30,
   "id": "46f51929",
   "metadata": {},
   "outputs": [],
   "source": [
    "Answer = dict(Answer)"
   ]
  },
  {
   "cell_type": "code",
   "execution_count": 31,
   "id": "fa4628dc",
   "metadata": {},
   "outputs": [
    {
     "name": "stdout",
     "output_type": "stream",
     "text": [
      "{'USA': 'Washington D.C.', 'France': 'Paris', 'India': 'New Delhi'}\n"
     ]
    }
   ],
   "source": [
    "print(Answer)"
   ]
  },
  {
   "cell_type": "markdown",
   "id": "ac587571",
   "metadata": {},
   "source": [
    "Question 10"
   ]
  },
  {
   "cell_type": "code",
   "execution_count": 32,
   "id": "5f050941",
   "metadata": {},
   "outputs": [],
   "source": [
    "My_dict = {\"Fruit\": \"Pear\",\n",
    "\"Vegetable\": \"Carrot\",\n",
    "\"Pet\": \"Cat\",\n",
    "\"Book\": \"Moby dick\",\n",
    "\"Crystal\": \"Amethyst\"}\n"
   ]
  },
  {
   "cell_type": "code",
   "execution_count": 33,
   "id": "8f24cdb7",
   "metadata": {},
   "outputs": [
    {
     "name": "stdout",
     "output_type": "stream",
     "text": [
      "{'Fruit': 'Pear', 'Vegetable': 'Carrot', 'Pet': 'Cat'}\n"
     ]
    }
   ],
   "source": [
    "del My_dict['Book']\n",
    "del My_dict['Crystal']\n",
    "print(My_dict)"
   ]
  },
  {
   "cell_type": "markdown",
   "id": "ef5b60c2",
   "metadata": {},
   "source": [
    "Question 11"
   ]
  },
  {
   "cell_type": "code",
   "execution_count": 3,
   "id": "9b72b088",
   "metadata": {},
   "outputs": [],
   "source": [
    "sub_dict = {'math' : 100, 'chem' : 98, 'sci' : 100,'eng':100}"
   ]
  },
  {
   "cell_type": "code",
   "execution_count": 4,
   "id": "d04d46c2",
   "metadata": {},
   "outputs": [],
   "source": [
    "key_to_extract = {'math', 'chem','sci'}"
   ]
  },
  {
   "cell_type": "code",
   "execution_count": 5,
   "id": "4d320a45",
   "metadata": {},
   "outputs": [
    {
     "data": {
      "text/plain": [
       "{'chem': 98, 'math': 100, 'sci': 100}"
      ]
     },
     "execution_count": 5,
     "metadata": {},
     "output_type": "execute_result"
    }
   ],
   "source": [
    "extracted_key_value = {key:sub_dict[key] for key in key_to_extract}\n",
    "extracted_key_value"
   ]
  },
  {
   "cell_type": "markdown",
   "id": "0d097704",
   "metadata": {},
   "source": [
    "Question 12"
   ]
  },
  {
   "cell_type": "code",
   "execution_count": 9,
   "id": "f0604749",
   "metadata": {},
   "outputs": [],
   "source": [
    "list1 = [12, 15, 32, 42, 55, 75, 122, 132, 150, 180, 200]"
   ]
  },
  {
   "cell_type": "code",
   "execution_count": 11,
   "id": "c62ba5eb",
   "metadata": {},
   "outputs": [
    {
     "name": "stdout",
     "output_type": "stream",
     "text": [
      "[15, 55, 75, 150, 180, 200]\n"
     ]
    }
   ],
   "source": [
    "answer = [val for val in list1 if val%5==0]\n",
    "print(answer)"
   ]
  },
  {
   "cell_type": "markdown",
   "id": "d91672b3",
   "metadata": {},
   "source": [
    "Question 13"
   ]
  },
  {
   "cell_type": "code",
   "execution_count": 12,
   "id": "b00da639",
   "metadata": {},
   "outputs": [],
   "source": [
    " numbers = [12, 75, 150, 180, 145, 525, 50]"
   ]
  },
  {
   "cell_type": "code",
   "execution_count": 13,
   "id": "dd778871",
   "metadata": {},
   "outputs": [],
   "source": [
    "answer = []\n",
    "\n",
    "for val in numbers:\n",
    "    if val>500:\n",
    "        break\n",
    "    if val>150:\n",
    "        continue\n",
    "    if val%5==0:\n",
    "        answer.append(val)\n",
    "        "
   ]
  },
  {
   "cell_type": "code",
   "execution_count": 14,
   "id": "032a3454",
   "metadata": {},
   "outputs": [
    {
     "name": "stdout",
     "output_type": "stream",
     "text": [
      "[75, 150, 145]\n"
     ]
    }
   ],
   "source": [
    "print(answer)"
   ]
  },
  {
   "cell_type": "markdown",
   "id": "d6d1b087",
   "metadata": {},
   "source": [
    "Question 14"
   ]
  },
  {
   "cell_type": "code",
   "execution_count": 16,
   "id": "568d106a",
   "metadata": {},
   "outputs": [],
   "source": [
    "Original_Substrings = \"@W3Resource.Com\""
   ]
  },
  {
   "cell_type": "code",
   "execution_count": 19,
   "id": "14195517",
   "metadata": {},
   "outputs": [
    {
     "name": "stdout",
     "output_type": "stream",
     "text": [
      "Upper case characters:  3\n",
      "\n",
      " Lower case characters:  9\n",
      "\n",
      " Number case:  1\n",
      "\n",
      " Special case characters:  2\n"
     ]
    }
   ],
   "source": [
    "upper_count =0\n",
    "lower_count = 0\n",
    "digit_count = 0\n",
    "special_count = 0\n",
    "\n",
    "for char in Original_Substrings:\n",
    "    if char.isupper():\n",
    "        upper_count += 1\n",
    "    elif char.islower():\n",
    "        lower_count += 1\n",
    "    elif char.isdigit():\n",
    "        digit_count += 1\n",
    "    else:\n",
    "        special_count += 1\n",
    "        \n",
    "        \n",
    "\n",
    "print(\"Upper case characters: \",upper_count)\n",
    "print(\"\\n Lower case characters: \",lower_count)\n",
    "print(\"\\n Number case: \",digit_count)\n",
    "print(\"\\n Special case characters: \",special_count)\n",
    "\n"
   ]
  },
  {
   "cell_type": "markdown",
   "id": "9f2f6740",
   "metadata": {},
   "source": [
    "Question 15"
   ]
  },
  {
   "cell_type": "code",
   "execution_count": 23,
   "id": "8668b1e6",
   "metadata": {},
   "outputs": [
    {
     "name": "stdout",
     "output_type": "stream",
     "text": [
      "24690\n"
     ]
    }
   ],
   "source": [
    "str_val = \"\"\n",
    "val=0\n",
    "n=5\n",
    "for x in range(n):\n",
    "    str_val = str_val +\"2\"\n",
    "    val += int(str_val)\n",
    "    \n",
    "print(val)"
   ]
  },
  {
   "cell_type": "code",
   "execution_count": null,
   "id": "bafa6536",
   "metadata": {},
   "outputs": [],
   "source": []
  }
 ],
 "metadata": {
  "kernelspec": {
   "display_name": "Python 3 (ipykernel)",
   "language": "python",
   "name": "python3"
  },
  "language_info": {
   "codemirror_mode": {
    "name": "ipython",
    "version": 3
   },
   "file_extension": ".py",
   "mimetype": "text/x-python",
   "name": "python",
   "nbconvert_exporter": "python",
   "pygments_lexer": "ipython3",
   "version": "3.10.9"
  }
 },
 "nbformat": 4,
 "nbformat_minor": 5
}
